{
 "cells": [
  {
   "cell_type": "markdown",
   "id": "a8e2e83e",
   "metadata": {},
   "source": [
    "# 单条调用（采用免费模型THUDM/GLM-Z1-9B-0414）"
   ]
  },
  {
   "cell_type": "code",
   "execution_count": null,
   "id": "015362cc",
   "metadata": {},
   "outputs": [
    {
     "name": "stdout",
     "output_type": "stream",
     "text": [
      "\n",
      "你好！有什么可以帮你的吗？无论是问题解答、信息查询，还是闲聊吐槽，我都在这儿呢～ 😄\n"
     ]
    }
   ],
   "source": [
    "import requests\n",
    "\n",
    "url = \"https://api.siliconflow.cn/v1/chat/completions\"\n",
    "\n",
    "payload = {\n",
    "    \"model\": \"THUDM/GLM-Z1-9B-0414\",\n",
    "    \"messages\": [\n",
    "        {\n",
    "            \"role\": \"user\",\n",
    "            \"content\": \"你好\"\n",
    "        }\n",
    "    ]\n",
    "}\n",
    "headers = {\n",
    "    \"Authorization\": \"Bearer 你的API Key\",\n",
    "    \"Content-Type\": \"application/json\"\n",
    "}\n",
    "\n",
    "response = requests.post(url, json=payload, headers=headers)\n",
    "\n",
    "print(response.json()['choices'][0]['message']['content'])"
   ]
  },
  {
   "cell_type": "markdown",
   "id": "6b4241d3",
   "metadata": {},
   "source": [
    "# 单次调用完成情感分类"
   ]
  },
  {
   "cell_type": "code",
   "execution_count": null,
   "id": "6bdc1c92",
   "metadata": {},
   "outputs": [
    {
     "name": "stdout",
     "output_type": "stream",
     "text": [
      "1\n"
     ]
    }
   ],
   "source": [
    "import requests\n",
    "import time\n",
    "\n",
    "url = \"https://api.siliconflow.cn/v1/chat/completions\"\n",
    "headers = {\n",
    "    \"Authorization\": \"Bearer 你的API Key\",\n",
    "    \"Content-Type\": \"application/json\"\n",
    "}\n",
    "\n",
    "payload = {\n",
    "    \"model\": \"THUDM/GLM-Z1-9B-0414\",\n",
    "    \"messages\": [\n",
    "        {\n",
    "            \"role\": \"user\",\n",
    "            \"content\": \"\"\"你是一个情感分类专家，善于判断文本的情感倾向。现在，我需要你协助我完成文本情感分类任务，以下是任务描述以及具体的要求：\n",
    "            1. 我会输入一段酒店评论，你需要协助我判断这段酒店评论的情感倾向。\n",
    "            2. 情感倾向分为积极情感与消极情感。\n",
    "            3. 如果你认为这段评论属于积极情感，则返回1；如果属于消极情感，则返回0.\n",
    "            4. 不要输出任何其他内容，只输出0或1.\n",
    "\n",
    "            input：环境交通都不错，房间也可以，下次还会再来\n",
    "            output：\n",
    "            \"\"\"\n",
    "        }\n",
    "    ]\n",
    "}\n",
    "\n",
    "def get_sentiment_result(max_retries=5):\n",
    "    retries = 0\n",
    "    while retries < max_retries:\n",
    "        try:\n",
    "            response = requests.post(url, json=payload, headers=headers)\n",
    "            response.raise_for_status()\n",
    "            content = response.json()['choices'][0]['message']['content'].strip()\n",
    "\n",
    "            # 清洗结果，仅保留0或1\n",
    "            clean_output = content.strip().replace(\"\\n\", \"\").replace(\" \", \"\")\n",
    "            if clean_output in [\"0\", \"1\", 0, 1]:\n",
    "                return clean_output\n",
    "            else:\n",
    "                print(f\"⚠️ 无效输出：{content}，重新请求中...（第 {retries+1} 次）\")\n",
    "                retries += 1\n",
    "                time.sleep(1)  # 避免频繁请求\n",
    "        except Exception as e:\n",
    "            print(f\"❌ 请求或解析出错：{e}，重新尝试中...（第 {retries+1} 次）\")\n",
    "            retries += 1\n",
    "            time.sleep(1)\n",
    "\n",
    "    raise RuntimeError(\"多次请求仍未获得有效结果（0或1）\")\n",
    "\n",
    "# 调用函数获取结果\n",
    "result = get_sentiment_result()\n",
    "print(result)\n"
   ]
  },
  {
   "cell_type": "markdown",
   "id": "7781e8f8",
   "metadata": {},
   "source": [
    "# 从本地读取数据，完成批量情感分类"
   ]
  },
  {
   "cell_type": "markdown",
   "id": "f5879d7c",
   "metadata": {},
   "source": [
    "从本地读取数据，`review`字段是评论（即待情感分类的文本），`label`字段是已经打好的情感标签（1代表积极，0代表消极）。"
   ]
  },
  {
   "cell_type": "code",
   "execution_count": 2,
   "id": "164c6a69",
   "metadata": {},
   "outputs": [
    {
     "data": {
      "application/vnd.microsoft.datawrangler.viewer.v0+json": {
       "columns": [
        {
         "name": "index",
         "rawType": "int64",
         "type": "integer"
        },
        {
         "name": "label",
         "rawType": "int64",
         "type": "integer"
        },
        {
         "name": "review",
         "rawType": "object",
         "type": "string"
        }
       ],
       "ref": "68b2ff27-42c0-493e-b7b7-36217c0a32e3",
       "rows": [
        [
         "0",
         "1",
         "房间不大，但相当舒适．距离热闹的酒吧集中区也很近，方便．环境干净＼清净，适合睡大觉．服务中规中矩，此次通过携程订房也很快捷＼省心．住的时间有限，两晚，但总体感觉不错，下次再到丽江，相信这也是下榻的首选补充点评2008年7月5日：没有给５分，不是因为有任何不满，而是完全出于个人对客栈短时间内获得的认识，也是出于希望客栈的服务能够一直保持相当水准，而不要轻易在商业化的潮流中，走上质价不符的路子．"
        ],
        [
         "1",
         "1",
         "酒店就是离市区太远。离新国际展会也不近。我的客人还算满意。"
        ],
        [
         "2",
         "1",
         "帮同事订过很多次，酒店位置很好，很方便。房间也不错。"
        ],
        [
         "3",
         "0",
         "就值5元的浴盐瓶要赔40元,这不是主要的,最主要的是质量差的东西能伤人,我打开没用力就破,我可不是什么大力士"
        ],
        [
         "4",
         "0",
         "帮朋友订的，反映不是太好，想必也是和城市规模有关系，宜昌的四星肯定是不能和大城市的四星相比。具体来说说入住情况吧：1.房间据说是比较旧的，设施好像比较古老，而且清洁程度有待考察2.据说soso3.说英语服务员很少，说英语的服务员说出来的英语很少。四星级怎么也得考虑如何提高接待外宾的水平吧，更何况三峡还是有很多外国游客去的。"
        ]
       ],
       "shape": {
        "columns": 2,
        "rows": 5
       }
      },
      "text/html": [
       "<div>\n",
       "<style scoped>\n",
       "    .dataframe tbody tr th:only-of-type {\n",
       "        vertical-align: middle;\n",
       "    }\n",
       "\n",
       "    .dataframe tbody tr th {\n",
       "        vertical-align: top;\n",
       "    }\n",
       "\n",
       "    .dataframe thead th {\n",
       "        text-align: right;\n",
       "    }\n",
       "</style>\n",
       "<table border=\"1\" class=\"dataframe\">\n",
       "  <thead>\n",
       "    <tr style=\"text-align: right;\">\n",
       "      <th></th>\n",
       "      <th>label</th>\n",
       "      <th>review</th>\n",
       "    </tr>\n",
       "  </thead>\n",
       "  <tbody>\n",
       "    <tr>\n",
       "      <th>0</th>\n",
       "      <td>1</td>\n",
       "      <td>房间不大，但相当舒适．距离热闹的酒吧集中区也很近，方便．环境干净＼清净，适合睡大觉．服务中规...</td>\n",
       "    </tr>\n",
       "    <tr>\n",
       "      <th>1</th>\n",
       "      <td>1</td>\n",
       "      <td>酒店就是离市区太远。离新国际展会也不近。我的客人还算满意。</td>\n",
       "    </tr>\n",
       "    <tr>\n",
       "      <th>2</th>\n",
       "      <td>1</td>\n",
       "      <td>帮同事订过很多次，酒店位置很好，很方便。房间也不错。</td>\n",
       "    </tr>\n",
       "    <tr>\n",
       "      <th>3</th>\n",
       "      <td>0</td>\n",
       "      <td>就值5元的浴盐瓶要赔40元,这不是主要的,最主要的是质量差的东西能伤人,我打开没用力就破,我...</td>\n",
       "    </tr>\n",
       "    <tr>\n",
       "      <th>4</th>\n",
       "      <td>0</td>\n",
       "      <td>帮朋友订的，反映不是太好，想必也是和城市规模有关系，宜昌的四星肯定是不能和大城市的四星相比。...</td>\n",
       "    </tr>\n",
       "  </tbody>\n",
       "</table>\n",
       "</div>"
      ],
      "text/plain": [
       "   label                                             review\n",
       "0      1  房间不大，但相当舒适．距离热闹的酒吧集中区也很近，方便．环境干净＼清净，适合睡大觉．服务中规...\n",
       "1      1                      酒店就是离市区太远。离新国际展会也不近。我的客人还算满意。\n",
       "2      1                         帮同事订过很多次，酒店位置很好，很方便。房间也不错。\n",
       "3      0  就值5元的浴盐瓶要赔40元,这不是主要的,最主要的是质量差的东西能伤人,我打开没用力就破,我...\n",
       "4      0  帮朋友订的，反映不是太好，想必也是和城市规模有关系，宜昌的四星肯定是不能和大城市的四星相比。..."
      ]
     },
     "execution_count": 2,
     "metadata": {},
     "output_type": "execute_result"
    }
   ],
   "source": [
    "import pandas as pd\n",
    "df = pd.read_csv('data_sample.csv')\n",
    "\n",
    "df.head()"
   ]
  },
  {
   "cell_type": "markdown",
   "id": "9bfe9f7d",
   "metadata": {},
   "source": [
    "批量完成情感分类任务"
   ]
  },
  {
   "cell_type": "code",
   "execution_count": null,
   "id": "ce1b8d69",
   "metadata": {},
   "outputs": [
    {
     "name": "stderr",
     "output_type": "stream",
     "text": [
      "情感分析中: 100%|██████████| 100/100 [09:01<00:00,  5.41s/it]\n"
     ]
    },
    {
     "data": {
      "application/vnd.microsoft.datawrangler.viewer.v0+json": {
       "columns": [
        {
         "name": "index",
         "rawType": "int64",
         "type": "integer"
        },
        {
         "name": "label",
         "rawType": "int64",
         "type": "integer"
        },
        {
         "name": "review",
         "rawType": "object",
         "type": "string"
        },
        {
         "name": "llm_output",
         "rawType": "int64",
         "type": "integer"
        }
       ],
       "ref": "8f140deb-049d-42a6-a71b-ce14e0bc7db1",
       "rows": [
        [
         "0",
         "1",
         "房间不大，但相当舒适．距离热闹的酒吧集中区也很近，方便．环境干净＼清净，适合睡大觉．服务中规中矩，此次通过携程订房也很快捷＼省心．住的时间有限，两晚，但总体感觉不错，下次再到丽江，相信这也是下榻的首选补充点评2008年7月5日：没有给５分，不是因为有任何不满，而是完全出于个人对客栈短时间内获得的认识，也是出于希望客栈的服务能够一直保持相当水准，而不要轻易在商业化的潮流中，走上质价不符的路子．",
         "1"
        ],
        [
         "1",
         "1",
         "酒店就是离市区太远。离新国际展会也不近。我的客人还算满意。",
         "0"
        ],
        [
         "2",
         "1",
         "帮同事订过很多次，酒店位置很好，很方便。房间也不错。",
         "1"
        ],
        [
         "3",
         "0",
         "就值5元的浴盐瓶要赔40元,这不是主要的,最主要的是质量差的东西能伤人,我打开没用力就破,我可不是什么大力士",
         "0"
        ],
        [
         "4",
         "0",
         "帮朋友订的，反映不是太好，想必也是和城市规模有关系，宜昌的四星肯定是不能和大城市的四星相比。具体来说说入住情况吧：1.房间据说是比较旧的，设施好像比较古老，而且清洁程度有待考察2.据说soso3.说英语服务员很少，说英语的服务员说出来的英语很少。四星级怎么也得考虑如何提高接待外宾的水平吧，更何况三峡还是有很多外国游客去的。",
         "0"
        ]
       ],
       "shape": {
        "columns": 3,
        "rows": 5
       }
      },
      "text/html": [
       "<div>\n",
       "<style scoped>\n",
       "    .dataframe tbody tr th:only-of-type {\n",
       "        vertical-align: middle;\n",
       "    }\n",
       "\n",
       "    .dataframe tbody tr th {\n",
       "        vertical-align: top;\n",
       "    }\n",
       "\n",
       "    .dataframe thead th {\n",
       "        text-align: right;\n",
       "    }\n",
       "</style>\n",
       "<table border=\"1\" class=\"dataframe\">\n",
       "  <thead>\n",
       "    <tr style=\"text-align: right;\">\n",
       "      <th></th>\n",
       "      <th>label</th>\n",
       "      <th>review</th>\n",
       "      <th>llm_output</th>\n",
       "    </tr>\n",
       "  </thead>\n",
       "  <tbody>\n",
       "    <tr>\n",
       "      <th>0</th>\n",
       "      <td>1</td>\n",
       "      <td>房间不大，但相当舒适．距离热闹的酒吧集中区也很近，方便．环境干净＼清净，适合睡大觉．服务中规...</td>\n",
       "      <td>1</td>\n",
       "    </tr>\n",
       "    <tr>\n",
       "      <th>1</th>\n",
       "      <td>1</td>\n",
       "      <td>酒店就是离市区太远。离新国际展会也不近。我的客人还算满意。</td>\n",
       "      <td>0</td>\n",
       "    </tr>\n",
       "    <tr>\n",
       "      <th>2</th>\n",
       "      <td>1</td>\n",
       "      <td>帮同事订过很多次，酒店位置很好，很方便。房间也不错。</td>\n",
       "      <td>1</td>\n",
       "    </tr>\n",
       "    <tr>\n",
       "      <th>3</th>\n",
       "      <td>0</td>\n",
       "      <td>就值5元的浴盐瓶要赔40元,这不是主要的,最主要的是质量差的东西能伤人,我打开没用力就破,我...</td>\n",
       "      <td>0</td>\n",
       "    </tr>\n",
       "    <tr>\n",
       "      <th>4</th>\n",
       "      <td>0</td>\n",
       "      <td>帮朋友订的，反映不是太好，想必也是和城市规模有关系，宜昌的四星肯定是不能和大城市的四星相比。...</td>\n",
       "      <td>0</td>\n",
       "    </tr>\n",
       "  </tbody>\n",
       "</table>\n",
       "</div>"
      ],
      "text/plain": [
       "   label                                             review  llm_output\n",
       "0      1  房间不大，但相当舒适．距离热闹的酒吧集中区也很近，方便．环境干净＼清净，适合睡大觉．服务中规...           1\n",
       "1      1                      酒店就是离市区太远。离新国际展会也不近。我的客人还算满意。           0\n",
       "2      1                         帮同事订过很多次，酒店位置很好，很方便。房间也不错。           1\n",
       "3      0  就值5元的浴盐瓶要赔40元,这不是主要的,最主要的是质量差的东西能伤人,我打开没用力就破,我...           0\n",
       "4      0  帮朋友订的，反映不是太好，想必也是和城市规模有关系，宜昌的四星肯定是不能和大城市的四星相比。...           0"
      ]
     },
     "execution_count": 11,
     "metadata": {},
     "output_type": "execute_result"
    }
   ],
   "source": [
    "import requests\n",
    "import time\n",
    "import pandas as pd\n",
    "from tqdm import tqdm  \n",
    "import json\n",
    "\n",
    "# LLM API配置\n",
    "url = \"https://api.siliconflow.cn/v1/chat/completions\"\n",
    "headers = {\n",
    "    \"Authorization\": \"Bearer 你的API key\",  # 替换为你的真实 API key\n",
    "    \"Content-Type\": \"application/json\"\n",
    "}\n",
    "\n",
    "def get_sentiment_result(review_text, max_retries=5):\n",
    "    \"\"\"调用LLM判断单条评论情感\"\"\"\n",
    "    base_prompt = f\"\"\"你是一个情感分类专家，善于判断文本的情感倾向。现在，我需要你协助我完成文本情感分类任务，以下是任务描述以及具体的要求：\n",
    "1. 我会输入一段酒店评论，你需要协助我判断这段酒店评论的情感倾向。\n",
    "2. 情感倾向分为积极情感与消极情感。\n",
    "3. 如果你认为这段评论属于积极情感，则返回1；如果属于消极情感，则返回0.\n",
    "4. 不要输出任何其他内容，只输出0或1.\n",
    "\n",
    "input：{review_text}\n",
    "output：\n",
    "\"\"\"\n",
    "\n",
    "    payload = {\n",
    "        \"model\": \"THUDM/GLM-Z1-9B-0414\",\n",
    "        \"messages\": [\n",
    "            {\"role\": \"user\", \"content\": base_prompt}\n",
    "        ]\n",
    "    }\n",
    "\n",
    "    retries = 0\n",
    "    while retries < max_retries:\n",
    "        try:\n",
    "            payload_json = json.dumps(payload, ensure_ascii=False).encode('utf-8')\n",
    "            response = requests.post(url, data=payload_json, headers=headers)\n",
    "            response.raise_for_status()\n",
    "            content = response.json()['choices'][0]['message']['content'].strip()\n",
    "            clean_output = content.replace(\"\\n\", \"\").replace(\" \", \"\").strip()\n",
    "            if clean_output in [\"0\", \"1\"]:\n",
    "                return int(clean_output)\n",
    "            else:\n",
    "                print(f\"⚠️ 非法输出: {clean_output}，第 {retries + 1} 次重试...\")\n",
    "                retries += 1\n",
    "                time.sleep(1)\n",
    "        except Exception as e:\n",
    "            print(f\"❌ 异常：{e}，第 {retries + 1} 次重试...\")\n",
    "            retries += 1\n",
    "            time.sleep(1)\n",
    "\n",
    "    return None  # 如果重试失败，返回空值\n",
    "\n",
    "# 批量情感分析 + tqdm进度条\n",
    "results = []\n",
    "for i, row in tqdm(df.iterrows(), total=len(df), desc=\"情感分析中\"):\n",
    "    review = row['review']\n",
    "    sentiment = get_sentiment_result(review)\n",
    "    results.append(sentiment)\n",
    "\n",
    "# 添加结果到DataFrame\n",
    "df['llm_output'] = results\n",
    "\n",
    "# 保存结果\n",
    "df.to_csv('data_singlethread.csv', index=False)\n",
    "df.head()"
   ]
  },
  {
   "cell_type": "markdown",
   "id": "5146f04b",
   "metadata": {},
   "source": [
    "# 多线程调用大模型，提升效率"
   ]
  },
  {
   "cell_type": "markdown",
   "id": "ebcc0a6a",
   "metadata": {},
   "source": [
    "- 这里使用了`concurrent`库来实现多线程调用大模型，大大提升了调用的速率。如果有同学对多线程（来自计算机操作系统的知识点）这个概念感兴趣，可以课后去了解一下。\n",
    "- 注意，多线程调用大模型的速率依旧是有上限的，因为厂商会限定模型的调用速率上限，这是个硬性限制，没法突破。"
   ]
  },
  {
   "cell_type": "code",
   "execution_count": null,
   "id": "36b50f8a",
   "metadata": {},
   "outputs": [
    {
     "name": "stderr",
     "output_type": "stream",
     "text": [
      "情感分析中:  40%|████      | 40/100 [00:45<00:50,  1.20it/s]"
     ]
    },
    {
     "name": "stdout",
     "output_type": "stream",
     "text": [
      "⚠️ 非法输出: 根据该月的借款数据，我们可以推测该用户的借款周期大约为：**15天**具体推演过程：1.假设每月借款日固定在某一天（例如每月1号）2.当前日期是2023-10-23（假设处理当日）3.借款完成日为2023-10-25revealed正常流动能力。结论：该用户本次借款周期基本是健康的，无异常波动迹象。，第 1 次重试...\n"
     ]
    },
    {
     "name": "stderr",
     "output_type": "stream",
     "text": [
      "情感分析中: 100%|██████████| 100/100 [01:38<00:00,  1.02it/s]\n"
     ]
    },
    {
     "data": {
      "application/vnd.microsoft.datawrangler.viewer.v0+json": {
       "columns": [
        {
         "name": "index",
         "rawType": "int64",
         "type": "integer"
        },
        {
         "name": "label",
         "rawType": "int64",
         "type": "integer"
        },
        {
         "name": "review",
         "rawType": "object",
         "type": "string"
        },
        {
         "name": "llm_output",
         "rawType": "int64",
         "type": "integer"
        }
       ],
       "ref": "2c87fa48-9087-4ad9-81dd-90cd5f3cbbbb",
       "rows": [
        [
         "0",
         "1",
         "房间不大，但相当舒适．距离热闹的酒吧集中区也很近，方便．环境干净＼清净，适合睡大觉．服务中规中矩，此次通过携程订房也很快捷＼省心．住的时间有限，两晚，但总体感觉不错，下次再到丽江，相信这也是下榻的首选补充点评2008年7月5日：没有给５分，不是因为有任何不满，而是完全出于个人对客栈短时间内获得的认识，也是出于希望客栈的服务能够一直保持相当水准，而不要轻易在商业化的潮流中，走上质价不符的路子．",
         "1"
        ],
        [
         "1",
         "1",
         "酒店就是离市区太远。离新国际展会也不近。我的客人还算满意。",
         "0"
        ],
        [
         "2",
         "1",
         "帮同事订过很多次，酒店位置很好，很方便。房间也不错。",
         "1"
        ],
        [
         "3",
         "0",
         "就值5元的浴盐瓶要赔40元,这不是主要的,最主要的是质量差的东西能伤人,我打开没用力就破,我可不是什么大力士",
         "0"
        ],
        [
         "4",
         "0",
         "帮朋友订的，反映不是太好，想必也是和城市规模有关系，宜昌的四星肯定是不能和大城市的四星相比。具体来说说入住情况吧：1.房间据说是比较旧的，设施好像比较古老，而且清洁程度有待考察2.据说soso3.说英语服务员很少，说英语的服务员说出来的英语很少。四星级怎么也得考虑如何提高接待外宾的水平吧，更何况三峡还是有很多外国游客去的。",
         "0"
        ]
       ],
       "shape": {
        "columns": 3,
        "rows": 5
       }
      },
      "text/html": [
       "<div>\n",
       "<style scoped>\n",
       "    .dataframe tbody tr th:only-of-type {\n",
       "        vertical-align: middle;\n",
       "    }\n",
       "\n",
       "    .dataframe tbody tr th {\n",
       "        vertical-align: top;\n",
       "    }\n",
       "\n",
       "    .dataframe thead th {\n",
       "        text-align: right;\n",
       "    }\n",
       "</style>\n",
       "<table border=\"1\" class=\"dataframe\">\n",
       "  <thead>\n",
       "    <tr style=\"text-align: right;\">\n",
       "      <th></th>\n",
       "      <th>label</th>\n",
       "      <th>review</th>\n",
       "      <th>llm_output</th>\n",
       "    </tr>\n",
       "  </thead>\n",
       "  <tbody>\n",
       "    <tr>\n",
       "      <th>0</th>\n",
       "      <td>1</td>\n",
       "      <td>房间不大，但相当舒适．距离热闹的酒吧集中区也很近，方便．环境干净＼清净，适合睡大觉．服务中规...</td>\n",
       "      <td>1</td>\n",
       "    </tr>\n",
       "    <tr>\n",
       "      <th>1</th>\n",
       "      <td>1</td>\n",
       "      <td>酒店就是离市区太远。离新国际展会也不近。我的客人还算满意。</td>\n",
       "      <td>0</td>\n",
       "    </tr>\n",
       "    <tr>\n",
       "      <th>2</th>\n",
       "      <td>1</td>\n",
       "      <td>帮同事订过很多次，酒店位置很好，很方便。房间也不错。</td>\n",
       "      <td>1</td>\n",
       "    </tr>\n",
       "    <tr>\n",
       "      <th>3</th>\n",
       "      <td>0</td>\n",
       "      <td>就值5元的浴盐瓶要赔40元,这不是主要的,最主要的是质量差的东西能伤人,我打开没用力就破,我...</td>\n",
       "      <td>0</td>\n",
       "    </tr>\n",
       "    <tr>\n",
       "      <th>4</th>\n",
       "      <td>0</td>\n",
       "      <td>帮朋友订的，反映不是太好，想必也是和城市规模有关系，宜昌的四星肯定是不能和大城市的四星相比。...</td>\n",
       "      <td>0</td>\n",
       "    </tr>\n",
       "  </tbody>\n",
       "</table>\n",
       "</div>"
      ],
      "text/plain": [
       "   label                                             review  llm_output\n",
       "0      1  房间不大，但相当舒适．距离热闹的酒吧集中区也很近，方便．环境干净＼清净，适合睡大觉．服务中规...           1\n",
       "1      1                      酒店就是离市区太远。离新国际展会也不近。我的客人还算满意。           0\n",
       "2      1                         帮同事订过很多次，酒店位置很好，很方便。房间也不错。           1\n",
       "3      0  就值5元的浴盐瓶要赔40元,这不是主要的,最主要的是质量差的东西能伤人,我打开没用力就破,我...           0\n",
       "4      0  帮朋友订的，反映不是太好，想必也是和城市规模有关系，宜昌的四星肯定是不能和大城市的四星相比。...           0"
      ]
     },
     "execution_count": 3,
     "metadata": {},
     "output_type": "execute_result"
    }
   ],
   "source": [
    "import requests\n",
    "import time\n",
    "import pandas as pd\n",
    "from tqdm import tqdm  \n",
    "import json\n",
    "from concurrent.futures import ThreadPoolExecutor, as_completed\n",
    "\n",
    "url = \"https://api.siliconflow.cn/v1/chat/completions\"\n",
    "\n",
    "api_keys = [\n",
    "    \"sk-123\",\n",
    "    \"sk-xxxxx2\",\n",
    "    \"sk-xxxxx3\",\n",
    "    \"sk-xxxxx4\",\n",
    "    \"sk-xxxxx5\"\n",
    "] # 在Silicon Flow中生成5个api key，并填入列表api_keys中。例如，第一个api key为\"sk-123\"，如图所示依次替换后4个str即可。\n",
    "\n",
    "def get_sentiment_result(review_text, api_key, max_retries=5):\n",
    "    base_prompt = f\"\"\"你是一个情感分类专家，善于判断文本的情感倾向。现在，我需要你协助我完成文本情感分类任务，以下是任务描述以及具体的要求：\n",
    "1. 我会输入一段酒店评论，你需要协助我判断这段酒店评论的情感倾向。\n",
    "2. 情感倾向分为积极情感与消极情感。\n",
    "3. 如果你认为这段评论属于积极情感，则返回1；如果属于消极情感，则返回0.\n",
    "4. 不要输出任何其他内容，只输出0或1.\n",
    "\n",
    "input：{review_text}\n",
    "output：\n",
    "\"\"\"\n",
    "\n",
    "    headers = {\n",
    "        \"Authorization\": f\"Bearer {api_key}\",\n",
    "        \"Content-Type\": \"application/json\"\n",
    "    }\n",
    "\n",
    "    payload = {\n",
    "        \"model\": \"THUDM/GLM-Z1-9B-0414\",\n",
    "        \"messages\": [\n",
    "            {\"role\": \"user\", \"content\": base_prompt}\n",
    "        ]\n",
    "    }\n",
    "\n",
    "    retries = 0\n",
    "    while retries < max_retries:\n",
    "        try:\n",
    "            payload_json = json.dumps(payload, ensure_ascii=False).encode('utf-8')\n",
    "            response = requests.post(url, data=payload_json, headers=headers)\n",
    "            response.raise_for_status()\n",
    "            content = response.json()['choices'][0]['message']['content'].strip()\n",
    "            clean_output = content.replace(\"\\n\", \"\").replace(\" \", \"\").strip()\n",
    "            if clean_output in [\"0\", \"1\"]:\n",
    "                return int(clean_output)\n",
    "            else:\n",
    "                print(f\"⚠️ 非法输出: {clean_output}，第 {retries + 1} 次重试...\")\n",
    "                retries += 1\n",
    "                time.sleep(1)\n",
    "        except Exception as e:\n",
    "            print(f\"❌ 异常：{e}，第 {retries + 1} 次重试...\")\n",
    "            retries += 1\n",
    "            time.sleep(1)\n",
    "\n",
    "    return None\n",
    "\n",
    "# 线程池最大5线程\n",
    "max_workers = 5\n",
    "\n",
    "results = [None] * len(df)\n",
    "\n",
    "def task(idx, review):\n",
    "    api_key = api_keys[idx % len(api_keys)]  # 轮流选择api key\n",
    "    sentiment = get_sentiment_result(review, api_key)\n",
    "    return idx, sentiment\n",
    "\n",
    "with ThreadPoolExecutor(max_workers=max_workers) as executor:\n",
    "    futures = [executor.submit(task, i, row['review']) for i, row in df.iterrows()]\n",
    "    for future in tqdm(as_completed(futures), total=len(df), desc=\"情感分析中\"):\n",
    "        idx, sentiment = future.result()\n",
    "        results[idx] = sentiment\n",
    "\n",
    "df['llm_output'] = results\n",
    "df.to_csv('data_multithread.csv', index=False)\n",
    "df.head()\n"
   ]
  },
  {
   "cell_type": "code",
   "execution_count": null,
   "id": "a634d567",
   "metadata": {},
   "outputs": [],
   "source": []
  },
  {
   "cell_type": "markdown",
   "id": "b1233414",
   "metadata": {},
   "source": [
    "# 大模型分类效果评估"
   ]
  },
  {
   "cell_type": "code",
   "execution_count": null,
   "id": "068755e5",
   "metadata": {},
   "outputs": [
    {
     "name": "stdout",
     "output_type": "stream",
     "text": [
      "多线程结果:\n",
      "  Accuracy:  0.8400\n",
      "  Precision: 0.9474\n",
      "  Recall:    0.7200\n",
      "  F1 Score:  0.8182\n",
      "\n",
      "单线程结果:\n",
      "  Accuracy:  0.8300\n",
      "  Precision: 1.0000\n",
      "  Recall:    0.6600\n",
      "  F1 Score:  0.7952\n",
      "\n"
     ]
    }
   ],
   "source": [
    "import pandas as pd\n",
    "from sklearn.metrics import accuracy_score, precision_score, recall_score, f1_score\n",
    "\n",
    "df_multi = pd.read_csv('data_multithread.csv')\n",
    "df_single = pd.read_csv('data_singlethread.csv')\n",
    "\n",
    "def print_metrics(y_true, y_pred, prefix=\"结果\"):\n",
    "    acc = accuracy_score(y_true, y_pred)\n",
    "    pre = precision_score(y_true, y_pred, zero_division=0)\n",
    "    rec = recall_score(y_true, y_pred, zero_division=0)\n",
    "    f1 = f1_score(y_true, y_pred, zero_division=0)\n",
    "    print(f\"{prefix}:\")\n",
    "    print(f\"  Accuracy:  {acc:.4f}\")\n",
    "    print(f\"  Precision: {pre:.4f}\")\n",
    "    print(f\"  Recall:    {rec:.4f}\")\n",
    "    print(f\"  F1 Score:  {f1:.4f}\")\n",
    "    print()\n",
    "\n",
    "# df_multi\n",
    "print_metrics(df_multi['label'], df_multi['llm_output'], prefix=\"多线程结果\")\n",
    "\n",
    "# df_single\n",
    "print_metrics(df_single['label'], df_single['llm_output'], prefix=\"单线程结果\")\n"
   ]
  }
 ],
 "metadata": {
  "kernelspec": {
   "display_name": "callllm",
   "language": "python",
   "name": "python3"
  },
  "language_info": {
   "codemirror_mode": {
    "name": "ipython",
    "version": 3
   },
   "file_extension": ".py",
   "mimetype": "text/x-python",
   "name": "python",
   "nbconvert_exporter": "python",
   "pygments_lexer": "ipython3",
   "version": "3.8.20"
  }
 },
 "nbformat": 4,
 "nbformat_minor": 5
}
